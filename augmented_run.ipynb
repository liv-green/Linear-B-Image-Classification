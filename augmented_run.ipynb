{
  "cells": [
    {
      "cell_type": "markdown",
      "metadata": {
        "id": "view-in-github",
        "colab_type": "text"
      },
      "source": [
        "<a href=\"https://colab.research.google.com/github/liv-green/Linear-B-Image-Classification/blob/main/augmented_run.ipynb\" target=\"_parent\"><img src=\"https://colab.research.google.com/assets/colab-badge.svg\" alt=\"Open In Colab\"/></a>"
      ]
    },
    {
      "cell_type": "code",
      "execution_count": null,
      "metadata": {
        "id": "8w-bHZ_3_lCY"
      },
      "outputs": [],
      "source": [
        "!unzip /content/TheodoraDataSplit-20230813T135509Z-001.zip"
      ]
    },
    {
      "cell_type": "code",
      "execution_count": null,
      "metadata": {
        "id": "1gGSIE24-j3N"
      },
      "outputs": [],
      "source": [
        "training_data = '/content/TheodoraDataSplit'"
      ]
    },
    {
      "cell_type": "code",
      "execution_count": null,
      "metadata": {
        "id": "obU6G4l-93AN"
      },
      "outputs": [],
      "source": [
        "!pip install ultralytics\n",
        "import os\n",
        "from ultralytics import YOLO"
      ]
    },
    {
      "cell_type": "code",
      "execution_count": null,
      "metadata": {
        "id": "hHmo5DIjfTLO"
      },
      "outputs": [],
      "source": [
        "model = YOLO(\"yolov8n-cls.pt\")  # pretained model\n",
        "\n",
        "results = model.train(data=training_data, epochs=30, imgsz=256)"
      ]
    },
    {
      "cell_type": "code",
      "execution_count": null,
      "metadata": {
        "id": "2ISg6fXVfU4i"
      },
      "outputs": [],
      "source": [
        "model = YOLO(\"yolov8n-cls.yaml\")  # untrained model\n",
        "\n",
        "results = model.train(data=training_data, epochs=30, imgsz=256)"
      ]
    },
    {
      "cell_type": "code",
      "execution_count": null,
      "metadata": {
        "id": "0nYNr167L2Ge",
        "colab": {
          "base_uri": "https://localhost:8080/"
        },
        "outputId": "f7993952-31a2-432f-9d98-2ba2d126ba8e"
      },
      "outputs": [
        {
          "output_type": "stream",
          "name": "stdout",
          "text": [
            "Mounted at /content/gdrive\n"
          ]
        }
      ],
      "source": [
        "from google.colab import drive\n",
        "\n",
        "drive.mount('/content/gdrive')"
      ]
    },
    {
      "cell_type": "code",
      "execution_count": null,
      "metadata": {
        "id": "rcKqO1k8Lz8f"
      },
      "outputs": [],
      "source": [
        "!scp -r /content/runs '/content/gdrive/My Drive'"
      ]
    },
    {
      "cell_type": "code",
      "execution_count": null,
      "metadata": {
        "id": "a1wNTFdNSyVe"
      },
      "outputs": [],
      "source": [
        "model = YOLO('/content/gdrive/MyDrive/Theodora/Pretrained & Augmented/weights/last.pt')\n"
      ]
    },
    {
      "cell_type": "code",
      "execution_count": null,
      "metadata": {
        "id": "IXZHmKV4emf6"
      },
      "outputs": [],
      "source": [
        "import os\n",
        "from os import listdir\n",
        "\n",
        "# gets the path to test data\n",
        "folder_dir = '/content/val'\n",
        "\n",
        "# loops through all images in test folder and runs them through model\n",
        "for subdir, dirs, files in os.walk(folder_dir):\n",
        "    for file in files:\n",
        "       result = model(os.path.join(subdir, file))\n"
      ]
    },
    {
      "cell_type": "code",
      "execution_count": null,
      "metadata": {
        "id": "U3RbEtOwh6gM"
      },
      "outputs": [],
      "source": [
        "metrics = model.val()"
      ]
    },
    {
      "cell_type": "code",
      "source": [
        "metrics"
      ],
      "metadata": {
        "id": "RKq0VPvbOiTI"
      },
      "execution_count": null,
      "outputs": []
    },
    {
      "cell_type": "code",
      "execution_count": null,
      "metadata": {
        "id": "k3obumUCwo9c"
      },
      "outputs": [],
      "source": [
        "!scp -r /content/runs/classify/val '/content/gdrive/My Drive/'"
      ]
    }
  ],
  "metadata": {
    "accelerator": "GPU",
    "colab": {
      "provenance": [],
      "gpuType": "V100",
      "authorship_tag": "ABX9TyNI4BcPtj3qKNMwJHdBAXJn",
      "include_colab_link": true
    },
    "kernelspec": {
      "display_name": "Python 3",
      "name": "python3"
    },
    "language_info": {
      "name": "python"
    }
  },
  "nbformat": 4,
  "nbformat_minor": 0
}